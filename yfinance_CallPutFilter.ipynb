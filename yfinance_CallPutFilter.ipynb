{
  "nbformat": 4,
  "nbformat_minor": 0,
  "metadata": {
    "colab": {
      "name": "yfinance_CallPutFilter.ipynb",
      "provenance": [],
      "collapsed_sections": [],
      "include_colab_link": true
    },
    "kernelspec": {
      "display_name": "Python 3",
      "name": "python3"
    },
    "language_info": {
      "name": "python"
    }
  },
  "cells": [
    {
      "cell_type": "markdown",
      "metadata": {
        "id": "view-in-github",
        "colab_type": "text"
      },
      "source": [
        "<a href=\"https://colab.research.google.com/github/GuanxiongLiu/US-Investment-Tools/blob/main/yfinance_CallPutFilter.ipynb\" target=\"_parent\"><img src=\"https://colab.research.google.com/assets/colab-badge.svg\" alt=\"Open In Colab\"/></a>"
      ]
    },
    {
      "cell_type": "code",
      "metadata": {
        "colab": {
          "base_uri": "https://localhost:8080/"
        },
        "id": "qvJHX4Txg6Nv",
        "outputId": "c4e67b0c-d552-4689-d9f3-d27ef4b4a339"
      },
      "source": [
        "from google.colab import drive\n",
        "drive.mount('/content/drive')"
      ],
      "execution_count": 1,
      "outputs": [
        {
          "output_type": "stream",
          "text": [
            "Drive already mounted at /content/drive; to attempt to forcibly remount, call drive.mount(\"/content/drive\", force_remount=True).\n"
          ],
          "name": "stdout"
        }
      ]
    },
    {
      "cell_type": "code",
      "metadata": {
        "colab": {
          "base_uri": "https://localhost:8080/"
        },
        "id": "0xP-VszG44w-",
        "outputId": "d0749f82-e1eb-47f6-bd96-af38c4a7d1fa"
      },
      "source": [
        "!pip install yfinance"
      ],
      "execution_count": 2,
      "outputs": [
        {
          "output_type": "stream",
          "text": [
            "Requirement already satisfied: yfinance in /usr/local/lib/python3.7/dist-packages (0.1.59)\n",
            "Requirement already satisfied: requests>=2.20 in /usr/local/lib/python3.7/dist-packages (from yfinance) (2.23.0)\n",
            "Requirement already satisfied: multitasking>=0.0.7 in /usr/local/lib/python3.7/dist-packages (from yfinance) (0.0.9)\n",
            "Requirement already satisfied: lxml>=4.5.1 in /usr/local/lib/python3.7/dist-packages (from yfinance) (4.6.3)\n",
            "Requirement already satisfied: pandas>=0.24 in /usr/local/lib/python3.7/dist-packages (from yfinance) (1.1.5)\n",
            "Requirement already satisfied: numpy>=1.15 in /usr/local/lib/python3.7/dist-packages (from yfinance) (1.19.5)\n",
            "Requirement already satisfied: certifi>=2017.4.17 in /usr/local/lib/python3.7/dist-packages (from requests>=2.20->yfinance) (2020.12.5)\n",
            "Requirement already satisfied: urllib3!=1.25.0,!=1.25.1,<1.26,>=1.21.1 in /usr/local/lib/python3.7/dist-packages (from requests>=2.20->yfinance) (1.24.3)\n",
            "Requirement already satisfied: idna<3,>=2.5 in /usr/local/lib/python3.7/dist-packages (from requests>=2.20->yfinance) (2.10)\n",
            "Requirement already satisfied: chardet<4,>=3.0.2 in /usr/local/lib/python3.7/dist-packages (from requests>=2.20->yfinance) (3.0.4)\n",
            "Requirement already satisfied: pytz>=2017.2 in /usr/local/lib/python3.7/dist-packages (from pandas>=0.24->yfinance) (2018.9)\n",
            "Requirement already satisfied: python-dateutil>=2.7.3 in /usr/local/lib/python3.7/dist-packages (from pandas>=0.24->yfinance) (2.8.1)\n",
            "Requirement already satisfied: six>=1.5 in /usr/local/lib/python3.7/dist-packages (from python-dateutil>=2.7.3->pandas>=0.24->yfinance) (1.15.0)\n"
          ],
          "name": "stdout"
        }
      ]
    },
    {
      "cell_type": "code",
      "metadata": {
        "id": "MKsLA0jjFfUM"
      },
      "source": [
        "import yfinance as yf"
      ],
      "execution_count": 3,
      "outputs": []
    },
    {
      "cell_type": "markdown",
      "metadata": {
        "id": "_wrmxd6IjQVR"
      },
      "source": [
        "# Preparation"
      ]
    },
    {
      "cell_type": "code",
      "metadata": {
        "colab": {
          "base_uri": "https://localhost:8080/",
          "height": 111
        },
        "id": "FUy5kpR85OTp",
        "outputId": "15d777e9-5808-49b7-ecf6-d099a4104743"
      },
      "source": [
        "import pandas as pd\n",
        "\n",
        "basic_stocks = pd.read_csv(\n",
        "    '<path to demo code or your own code>'\n",
        ")\n",
        "basic_stocks.head()"
      ],
      "execution_count": 4,
      "outputs": [
        {
          "output_type": "execute_result",
          "data": {
            "text/html": [
              "<div>\n",
              "<style scoped>\n",
              "    .dataframe tbody tr th:only-of-type {\n",
              "        vertical-align: middle;\n",
              "    }\n",
              "\n",
              "    .dataframe tbody tr th {\n",
              "        vertical-align: top;\n",
              "    }\n",
              "\n",
              "    .dataframe thead th {\n",
              "        text-align: right;\n",
              "    }\n",
              "</style>\n",
              "<table border=\"1\" class=\"dataframe\">\n",
              "  <thead>\n",
              "    <tr style=\"text-align: right;\">\n",
              "      <th></th>\n",
              "      <th>Ticker</th>\n",
              "      <th>BP_1_date</th>\n",
              "      <th>BP_2_date</th>\n",
              "      <th>Vertical_Dis_Per_Channel</th>\n",
              "    </tr>\n",
              "  </thead>\n",
              "  <tbody>\n",
              "    <tr>\n",
              "      <th>0</th>\n",
              "      <td>SPY</td>\n",
              "      <td>2020-03-23</td>\n",
              "      <td>2021-03-04</td>\n",
              "      <td>4.405</td>\n",
              "    </tr>\n",
              "    <tr>\n",
              "      <th>1</th>\n",
              "      <td>QQQ</td>\n",
              "      <td>2020-03-24</td>\n",
              "      <td>2021-05-19</td>\n",
              "      <td>5.457</td>\n",
              "    </tr>\n",
              "  </tbody>\n",
              "</table>\n",
              "</div>"
            ],
            "text/plain": [
              "  Ticker   BP_1_date   BP_2_date  Vertical_Dis_Per_Channel\n",
              "0    SPY  2020-03-23  2021-03-04                     4.405\n",
              "1    QQQ  2020-03-24  2021-05-19                     5.457"
            ]
          },
          "metadata": {
            "tags": []
          },
          "execution_count": 4
        }
      ]
    },
    {
      "cell_type": "code",
      "metadata": {
        "colab": {
          "base_uri": "https://localhost:8080/"
        },
        "id": "sFnoFQgeAjSs",
        "outputId": "eed9f0e4-440b-4c24-99b9-9734515c4829"
      },
      "source": [
        "history_daily = yf.download(# or pdr.get_data_yahoo(...\n",
        "                            # tickers list or string as well\n",
        "                            tickers = \" \".join(basic_stocks['Ticker'].to_numpy()),\n",
        "\n",
        "                            # use \"period\" instead of start/end\n",
        "                            # valid periods: 1d,5d,1mo,3mo,6mo,1y,2y,5y,10y,ytd,max\n",
        "                            # (optional, default is '1mo')\n",
        "                            period = \"2y\",\n",
        "\n",
        "                            # fetch data by interval (including intraday if period < 60 days)\n",
        "                            # valid intervals: 1m,2m,5m,15m,30m,60m,90m,1h,1d,5d,1wk,1mo,3mo\n",
        "                            # (optional, default is '1d')\n",
        "                            interval = \"1d\",\n",
        "\n",
        "                            # group by ticker (to access via data['SPY'])\n",
        "                            # (optional, default is 'column')\n",
        "                            group_by = 'ticker',\n",
        "\n",
        "                            # adjust all OHLC automatically\n",
        "                            # (optional, default is False)\n",
        "                            auto_adjust = True,\n",
        "\n",
        "                            # download pre/post regular market hours data\n",
        "                            # (optional, default is False)\n",
        "                            prepost = True,\n",
        "\n",
        "                            # use threads for mass downloading? (True/False/Integer)\n",
        "                            # (optional, default is True)\n",
        "                            threads = True,\n",
        "\n",
        "                            # proxy URL scheme use use when downloading?\n",
        "                            # (optional, default is None)\n",
        "                            proxy = None\n",
        "                        )"
      ],
      "execution_count": 5,
      "outputs": [
        {
          "output_type": "stream",
          "text": [
            "[*********************100%***********************]  2 of 2 completed\n"
          ],
          "name": "stdout"
        }
      ]
    },
    {
      "cell_type": "code",
      "metadata": {
        "id": "vN5MgOniD8tu"
      },
      "source": [
        "dates = [str(d)[0:10] for d in history_daily.index.to_numpy()]\n",
        "today, dates = dates[-1], dates[:-1]\n",
        "history_daily = history_daily.drop(index=history_daily.index[-1])"
      ],
      "execution_count": 6,
      "outputs": []
    },
    {
      "cell_type": "code",
      "metadata": {
        "colab": {
          "base_uri": "https://localhost:8080/",
          "height": 266
        },
        "id": "nAwbXkrVhhVy",
        "outputId": "89c297d1-961d-41dd-f17f-b6df86a143eb"
      },
      "source": [
        "history_daily.tail()"
      ],
      "execution_count": 7,
      "outputs": [
        {
          "output_type": "execute_result",
          "data": {
            "text/html": [
              "<div>\n",
              "<style scoped>\n",
              "    .dataframe tbody tr th:only-of-type {\n",
              "        vertical-align: middle;\n",
              "    }\n",
              "\n",
              "    .dataframe tbody tr th {\n",
              "        vertical-align: top;\n",
              "    }\n",
              "\n",
              "    .dataframe thead tr th {\n",
              "        text-align: left;\n",
              "    }\n",
              "\n",
              "    .dataframe thead tr:last-of-type th {\n",
              "        text-align: right;\n",
              "    }\n",
              "</style>\n",
              "<table border=\"1\" class=\"dataframe\">\n",
              "  <thead>\n",
              "    <tr>\n",
              "      <th></th>\n",
              "      <th colspan=\"5\" halign=\"left\">QQQ</th>\n",
              "      <th colspan=\"5\" halign=\"left\">SPY</th>\n",
              "    </tr>\n",
              "    <tr>\n",
              "      <th></th>\n",
              "      <th>Open</th>\n",
              "      <th>High</th>\n",
              "      <th>Low</th>\n",
              "      <th>Close</th>\n",
              "      <th>Volume</th>\n",
              "      <th>Open</th>\n",
              "      <th>High</th>\n",
              "      <th>Low</th>\n",
              "      <th>Close</th>\n",
              "      <th>Volume</th>\n",
              "    </tr>\n",
              "    <tr>\n",
              "      <th>Date</th>\n",
              "      <th></th>\n",
              "      <th></th>\n",
              "      <th></th>\n",
              "      <th></th>\n",
              "      <th></th>\n",
              "      <th></th>\n",
              "      <th></th>\n",
              "      <th></th>\n",
              "      <th></th>\n",
              "      <th></th>\n",
              "    </tr>\n",
              "  </thead>\n",
              "  <tbody>\n",
              "    <tr>\n",
              "      <th>2021-05-20</th>\n",
              "      <td>324.119995</td>\n",
              "      <td>329.709991</td>\n",
              "      <td>323.890015</td>\n",
              "      <td>328.829987</td>\n",
              "      <td>46466100</td>\n",
              "      <td>411.799988</td>\n",
              "      <td>416.630005</td>\n",
              "      <td>411.670013</td>\n",
              "      <td>415.279999</td>\n",
              "      <td>78022200</td>\n",
              "    </tr>\n",
              "    <tr>\n",
              "      <th>2021-05-21</th>\n",
              "      <td>330.429993</td>\n",
              "      <td>330.859985</td>\n",
              "      <td>326.640015</td>\n",
              "      <td>327.010010</td>\n",
              "      <td>50284700</td>\n",
              "      <td>416.869995</td>\n",
              "      <td>418.200012</td>\n",
              "      <td>414.450012</td>\n",
              "      <td>414.940002</td>\n",
              "      <td>76519100</td>\n",
              "    </tr>\n",
              "    <tr>\n",
              "      <th>2021-05-24</th>\n",
              "      <td>329.369995</td>\n",
              "      <td>333.670013</td>\n",
              "      <td>326.899994</td>\n",
              "      <td>332.510010</td>\n",
              "      <td>32475800</td>\n",
              "      <td>417.339996</td>\n",
              "      <td>420.320007</td>\n",
              "      <td>417.079987</td>\n",
              "      <td>419.170013</td>\n",
              "      <td>51376700</td>\n",
              "    </tr>\n",
              "    <tr>\n",
              "      <th>2021-05-25</th>\n",
              "      <td>334.070007</td>\n",
              "      <td>334.809998</td>\n",
              "      <td>331.760010</td>\n",
              "      <td>332.970001</td>\n",
              "      <td>31280300</td>\n",
              "      <td>420.329987</td>\n",
              "      <td>420.709991</td>\n",
              "      <td>417.619995</td>\n",
              "      <td>418.239990</td>\n",
              "      <td>57451400</td>\n",
              "    </tr>\n",
              "    <tr>\n",
              "      <th>2021-05-26</th>\n",
              "      <td>333.660004</td>\n",
              "      <td>334.609985</td>\n",
              "      <td>332.950012</td>\n",
              "      <td>334.130005</td>\n",
              "      <td>25333900</td>\n",
              "      <td>418.869995</td>\n",
              "      <td>419.609985</td>\n",
              "      <td>417.760010</td>\n",
              "      <td>419.070007</td>\n",
              "      <td>42997900</td>\n",
              "    </tr>\n",
              "  </tbody>\n",
              "</table>\n",
              "</div>"
            ],
            "text/plain": [
              "                   QQQ              ...         SPY          \n",
              "                  Open        High  ...       Close    Volume\n",
              "Date                                ...                      \n",
              "2021-05-20  324.119995  329.709991  ...  415.279999  78022200\n",
              "2021-05-21  330.429993  330.859985  ...  414.940002  76519100\n",
              "2021-05-24  329.369995  333.670013  ...  419.170013  51376700\n",
              "2021-05-25  334.070007  334.809998  ...  418.239990  57451400\n",
              "2021-05-26  333.660004  334.609985  ...  419.070007  42997900\n",
              "\n",
              "[5 rows x 10 columns]"
            ]
          },
          "metadata": {
            "tags": []
          },
          "execution_count": 7
        }
      ]
    },
    {
      "cell_type": "markdown",
      "metadata": {
        "id": "G-51Z-EVjT7x"
      },
      "source": [
        "# Filtering"
      ]
    },
    {
      "cell_type": "code",
      "metadata": {
        "id": "NDxQ99RzD2mA"
      },
      "source": [
        "call_interest_thres, put_interest_thres = 0.3, 0.7"
      ],
      "execution_count": 28,
      "outputs": []
    },
    {
      "cell_type": "code",
      "metadata": {
        "id": "pZ0t6H1VjWaj"
      },
      "source": [
        "call_direction, put_direction = [], []\n",
        "for index in range(basic_stocks.shape[0]):\n",
        "    row = basic_stocks.iloc[index]\n",
        "    #\n",
        "    BP_1_loc, BP_2_loc, TD_loc = dates.index(row['BP_1_date']), dates.index(row['BP_2_date']), history_daily.shape[0]+1\n",
        "    BP_price_diff = (history_daily.iloc[BP_2_loc][(row['Ticker'], 'Low')] - history_daily.iloc[BP_1_loc][(row['Ticker'], 'Low')])\n",
        "    RF_price_diff = (TD_loc - BP_1_loc) / (BP_2_loc - BP_1_loc) * BP_price_diff\n",
        "    RF_price = history_daily.iloc[BP_1_loc][(row['Ticker'], 'Low')] + RF_price_diff\n",
        "    #\n",
        "    ticker = yf.Ticker(row['Ticker'])\n",
        "    price = ticker.history(period='1d', interval='1d').to_numpy()[0,3]\n",
        "    #\n",
        "    ratio = (abs(price - RF_price) / row['Vertical_Dis_Per_Channel']) - (abs(price - RF_price) // row['Vertical_Dis_Per_Channel'])\n",
        "    if ratio <= call_interest_thres:\n",
        "        call_direction.append(row['Ticker'])\n",
        "    elif ratio >= put_interest_thres:\n",
        "        put_direction.append(row['Ticker'])\n",
        "    else:\n",
        "        pass"
      ],
      "execution_count": 29,
      "outputs": []
    },
    {
      "cell_type": "code",
      "metadata": {
        "colab": {
          "base_uri": "https://localhost:8080/"
        },
        "id": "wixhJIopABHh",
        "outputId": "6b48d133-86ac-4aa3-a62d-e7c62e308c77"
      },
      "source": [
        "print('The CALL direction Tickers are: \\n')\n",
        "print(call_direction)\n",
        "print('The PUT direction Tickers are: \\n')\n",
        "print(put_direction)"
      ],
      "execution_count": 30,
      "outputs": [
        {
          "output_type": "stream",
          "text": [
            "The CALL direction Tickers are: \n",
            "\n",
            "['SPY']\n",
            "The PUT direction Tickers are: \n",
            "\n",
            "[]\n"
          ],
          "name": "stdout"
        }
      ]
    },
    {
      "cell_type": "code",
      "metadata": {
        "id": "Yp0ri19NMmcj"
      },
      "source": [
        ""
      ],
      "execution_count": 37,
      "outputs": []
    }
  ]
}